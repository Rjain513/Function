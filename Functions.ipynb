{
  "nbformat": 4,
  "nbformat_minor": 0,
  "metadata": {
    "colab": {
      "provenance": []
    },
    "kernelspec": {
      "name": "python3",
      "display_name": "Python 3"
    },
    "language_info": {
      "name": "python"
    }
  },
  "cells": [
    {
      "cell_type": "markdown",
      "source": [
        "Question 1:What is the difference between a function and a method in Python?\n",
        "Answer 1:A function is a standalone block of reusable code, while a method is a function associated with an object and can operate on the object's data or state.\n",
        "\n",
        "Question 2:Explain the concept of function arguments and parameters in Python.\n",
        "Answer 2:Parameters are variables defined in a function's declaration to receive input. Arguments are actual values passed to the function when it is called, matching the defined parameters.\n",
        "\n",
        "Question 3:What are the different ways to define and call a function in Python?\n",
        "Ans3:In Python, functions are defined using def, with optional parameters, default values, or variable-length arguments (*args, **kwargs). Anonymous functions use lambda. Functions are called by name with positional or keyword arguments.\n",
        "\n",
        "Question 4:What is the purpose of the return statement in a Python function?\n",
        "Ans4:The return statement in Python functions is used to send a value or result back to the caller, ending the function’s execution. It enables data to be reused or processed further.\n",
        "\n",
        "Question 5:What are iterators in Python and how do they differ from iterables?\n",
        "Ans 5:Iterators in Python are objects with a next() method to fetch elements sequentially, while iterables are collections (e.g., lists) that can generate an iterator via iter().\n",
        "\n",
        "Question 6:Explain the concept of generators in Python and how they are defined.\n",
        "Ans 6;Generators in Python are functions that yield values one at a time using the yield keyword, maintaining state between calls, and enabling efficient iteration without storing all values in memory.\n",
        "\n",
        "Question 7:What are the advantages of using generators over regular functions?\n",
        "Ans 7:Generators efficiently handle large data by yielding items one at a time, reducing memory usage, supporting lazy evaluation, simplifying code for iterable sequences, and enabling pipelines for streaming data processing.\n",
        "\n",
        "Question 8:What is a lambda function in Python and when is it typically used?\n",
        "Ans8:A lambda function in Python is an anonymous, single-expression function defined with the lambda keyword, typically used for short, inline operations like sorting, filtering, or mapping in functional programming.\n",
        "\n",
        "Question 9:Explain the purpose and usage of the map() function in Python.\n",
        "Ans 9:The map() function in Python applies a specified function to each item in an iterable, returning a map object (an iterator) with transformed results, useful for concise data transformations.\n",
        "\n",
        "Question 10:What is the difference between map(), reduce(), and filter() functions in Python?\n",
        "Ans 10:map() applies a function to each element in an iterable, returning transformed results.\n",
        "\n",
        "filter() filters elements based on a function's condition, returning only those that satisfy it.\n",
        "\n",
        "reduce() repeatedly applies a function to combine elements into a single result, typically used for aggregation.\n",
        "\n",
        "Question 11:Using pen & Paper write the internal mechanism for sum operation using  reduce function on this given  \n",
        "list:[47,11,42,13]\n",
        "\n",
        "Ans11:Iterations:\n",
        "\n",
        "1. First call:\n",
        "x = 47 (first element), y = 11 (second element).\n",
        "Operation: x + y = 47 + 11 = 58.\n",
        "\n",
        "\n",
        "2. Second call:\n",
        "x = 58 (result from the previous step), y = 42 (next element).\n",
        "Operation: x + y = 58 + 42 = 100.\n",
        "\n",
        "\n",
        "3. Third call:\n",
        "x = 100 (result from the previous step), y = 13 (next element).\n",
        "Operation: x + y = 100 + 13 = 113.\n",
        "\n",
        "\n",
        "\n",
        "Final Result:\n",
        "\n",
        "113 is the final result of the sum operation."
      ],
      "metadata": {
        "id": "SoauJTOru0lC"
      }
    },
    {
      "cell_type": "code",
      "source": [
        "#1 Write a Python function that takes a list of numbers as input and returns the sum of all even numbers in the list?\n",
        "\n",
        "def sum_of_evens(numbers):\n",
        "    return sum(num for num in numbers if num % 2 == 0)\n",
        "\n",
        "# Example usage\n",
        "numbers = [1, 2, 3, 4, 5, 6]\n",
        "result = sum_of_evens(numbers)\n",
        "print(\"Sum of even numbers:\", result)\n"
      ],
      "metadata": {
        "colab": {
          "base_uri": "https://localhost:8080/"
        },
        "id": "l4tK7zz0vBzL",
        "outputId": "bc33dc22-b38c-4f86-9ec2-e9860d3390d1"
      },
      "execution_count": null,
      "outputs": [
        {
          "output_type": "stream",
          "name": "stdout",
          "text": [
            "Sum of even numbers: 12\n"
          ]
        }
      ]
    },
    {
      "cell_type": "code",
      "source": [
        "#2 Create a Python function that accepts a string and returns the reverse of that string.\n",
        "\n",
        "def reverse_string(s):\n",
        "    return s[::-1]\n",
        "\n",
        "# Example usage\n",
        "text = \"hello\"\n",
        "result = reverse_string(text)\n",
        "print(\"Reversed string:\", result)\n"
      ],
      "metadata": {
        "colab": {
          "base_uri": "https://localhost:8080/"
        },
        "id": "HW2_TF5ovJ3d",
        "outputId": "437715a6-d8b9-40b5-c1a7-d061c1556574"
      },
      "execution_count": null,
      "outputs": [
        {
          "output_type": "stream",
          "name": "stdout",
          "text": [
            "Reversed string: olleh\n"
          ]
        }
      ]
    },
    {
      "cell_type": "code",
      "source": [
        "#3 Implement a Python function that takes a list of integers and returns a new list containing the squares of\n",
        "def square_list(numbers):\n",
        "    return [num ** 2 for num in numbers]\n",
        "\n",
        "# Example usage\n",
        "numbers = [1, 2, 3, 4, 5]\n",
        "result = square_list(numbers)\n",
        "print(\"Squares of the numbers:\", result)\n"
      ],
      "metadata": {
        "colab": {
          "base_uri": "https://localhost:8080/"
        },
        "id": "K8X0LQkkvLuI",
        "outputId": "30d979a1-4285-4429-fbae-2b6087369b2a"
      },
      "execution_count": null,
      "outputs": [
        {
          "output_type": "stream",
          "name": "stdout",
          "text": [
            "Squares of the numbers: [1, 4, 9, 16, 25]\n"
          ]
        }
      ]
    },
    {
      "cell_type": "code",
      "source": [
        "#4 Write a Python function that checks if a given number is prime or not from 1 to 200.\n",
        "\n",
        "def is_prime(n):\n",
        "    if n <= 1:\n",
        "        return False\n",
        "    for i in range(2, int(n ** 0.5) + 1):\n",
        "        if n % i == 0:\n",
        "            return False\n",
        "    return True\n",
        "\n",
        "# Check and print prime numbers from 1 to 200\n",
        "for num in range(1, 201):\n",
        "    if is_prime(num):\n",
        "        print(num, \"is a prime number\")\n"
      ],
      "metadata": {
        "colab": {
          "base_uri": "https://localhost:8080/"
        },
        "id": "8UAsx2tYvNjx",
        "outputId": "ebfcfce5-cfae-4880-c127-9f22c0135c42"
      },
      "execution_count": null,
      "outputs": [
        {
          "output_type": "stream",
          "name": "stdout",
          "text": [
            "2 is a prime number\n",
            "3 is a prime number\n",
            "5 is a prime number\n",
            "7 is a prime number\n",
            "11 is a prime number\n",
            "13 is a prime number\n",
            "17 is a prime number\n",
            "19 is a prime number\n",
            "23 is a prime number\n",
            "29 is a prime number\n",
            "31 is a prime number\n",
            "37 is a prime number\n",
            "41 is a prime number\n",
            "43 is a prime number\n",
            "47 is a prime number\n",
            "53 is a prime number\n",
            "59 is a prime number\n",
            "61 is a prime number\n",
            "67 is a prime number\n",
            "71 is a prime number\n",
            "73 is a prime number\n",
            "79 is a prime number\n",
            "83 is a prime number\n",
            "89 is a prime number\n",
            "97 is a prime number\n",
            "101 is a prime number\n",
            "103 is a prime number\n",
            "107 is a prime number\n",
            "109 is a prime number\n",
            "113 is a prime number\n",
            "127 is a prime number\n",
            "131 is a prime number\n",
            "137 is a prime number\n",
            "139 is a prime number\n",
            "149 is a prime number\n",
            "151 is a prime number\n",
            "157 is a prime number\n",
            "163 is a prime number\n",
            "167 is a prime number\n",
            "173 is a prime number\n",
            "179 is a prime number\n",
            "181 is a prime number\n",
            "191 is a prime number\n",
            "193 is a prime number\n",
            "197 is a prime number\n",
            "199 is a prime number\n"
          ]
        }
      ]
    },
    {
      "cell_type": "code",
      "source": [
        "#5 Create an iterator class in Python that generates the Fibonacci sequence up to a specified number of\n",
        "class FibonacciIterator:\n",
        "    def __init__(self, n):\n",
        "        self.n = n\n",
        "        self.current = 0\n",
        "        self.next = 1\n",
        "        self.count = 0\n",
        "\n",
        "    def __iter__(self):\n",
        "        return self\n",
        "\n",
        "    def __next__(self):\n",
        "        if self.count >= self.n:\n",
        "            raise StopIteration\n",
        "        fib = self.current\n",
        "        self.current, self.next = self.next, self.current + self.next\n",
        "        self.count += 1\n",
        "        return fib\n",
        "\n",
        "# Example usage\n",
        "num_terms = 10  # Specify the number of terms\n",
        "fib_iterator = FibonacciIterator(num_terms)\n",
        "\n",
        "for fib in fib_iterator:\n",
        "    print(fib)\n"
      ],
      "metadata": {
        "colab": {
          "base_uri": "https://localhost:8080/"
        },
        "id": "OWYBBcbNvPJR",
        "outputId": "e81353b5-0180-4af5-c6f6-fe71bf0e24a9"
      },
      "execution_count": null,
      "outputs": [
        {
          "output_type": "stream",
          "name": "stdout",
          "text": [
            "0\n",
            "1\n",
            "1\n",
            "2\n",
            "3\n",
            "5\n",
            "8\n",
            "13\n",
            "21\n",
            "34\n"
          ]
        }
      ]
    },
    {
      "cell_type": "code",
      "source": [
        "#6 Write a generator function in Python that yields the powers of 2 up to a given exponent.\n",
        "def powers_of_two(max_exponent):\n",
        "    for exponent in range(max_exponent + 1):\n",
        "        yield 2 ** exponent\n",
        "\n",
        "# Example usage\n",
        "max_exponent = 5\n",
        "for power in powers_of_two(max_exponent):\n",
        "    print(power)\n"
      ],
      "metadata": {
        "colab": {
          "base_uri": "https://localhost:8080/"
        },
        "id": "R5IMth4gvRHw",
        "outputId": "c5c9447f-5a63-477e-81d4-9bad02365a62"
      },
      "execution_count": null,
      "outputs": [
        {
          "output_type": "stream",
          "name": "stdout",
          "text": [
            "1\n",
            "2\n",
            "4\n",
            "8\n",
            "16\n",
            "32\n"
          ]
        }
      ]
    },
    {
      "cell_type": "code",
      "source": [
        "#7 Implement a generator function that reads a file line by line and yields each line as a string\n",
        "def read_file_line_by_line(file_path):\n",
        "    with open(file_path, 'r') as file:\n",
        "        for line in file:\n",
        "            yield line\n",
        "\n",
        "# Example usage\n",
        "file_path = 'example.txt'  # Replace with your file path\n",
        "for line in read_file_line_by_line(file_path):\n",
        "    print(line, end='')\n"
      ],
      "metadata": {
        "colab": {
          "base_uri": "https://localhost:8080/",
          "height": 315
        },
        "id": "T0Nqt82UvTTb",
        "outputId": "8fd190a0-9b79-42ce-9764-2526f2c1f21d"
      },
      "execution_count": null,
      "outputs": [
        {
          "output_type": "error",
          "ename": "FileNotFoundError",
          "evalue": "[Errno 2] No such file or directory: 'example.txt'",
          "traceback": [
            "\u001b[0;31m---------------------------------------------------------------------------\u001b[0m",
            "\u001b[0;31mFileNotFoundError\u001b[0m                         Traceback (most recent call last)",
            "\u001b[0;32m<ipython-input-40-f55ad971d8c6>\u001b[0m in \u001b[0;36m<cell line: 0>\u001b[0;34m()\u001b[0m\n\u001b[1;32m      7\u001b[0m \u001b[0;31m# Example usage\u001b[0m\u001b[0;34m\u001b[0m\u001b[0;34m\u001b[0m\u001b[0m\n\u001b[1;32m      8\u001b[0m \u001b[0mfile_path\u001b[0m \u001b[0;34m=\u001b[0m \u001b[0;34m'example.txt'\u001b[0m  \u001b[0;31m# Replace with your file path\u001b[0m\u001b[0;34m\u001b[0m\u001b[0;34m\u001b[0m\u001b[0m\n\u001b[0;32m----> 9\u001b[0;31m \u001b[0;32mfor\u001b[0m \u001b[0mline\u001b[0m \u001b[0;32min\u001b[0m \u001b[0mread_file_line_by_line\u001b[0m\u001b[0;34m(\u001b[0m\u001b[0mfile_path\u001b[0m\u001b[0;34m)\u001b[0m\u001b[0;34m:\u001b[0m\u001b[0;34m\u001b[0m\u001b[0;34m\u001b[0m\u001b[0m\n\u001b[0m\u001b[1;32m     10\u001b[0m     \u001b[0mprint\u001b[0m\u001b[0;34m(\u001b[0m\u001b[0mline\u001b[0m\u001b[0;34m,\u001b[0m \u001b[0mend\u001b[0m\u001b[0;34m=\u001b[0m\u001b[0;34m''\u001b[0m\u001b[0;34m)\u001b[0m\u001b[0;34m\u001b[0m\u001b[0;34m\u001b[0m\u001b[0m\n",
            "\u001b[0;32m<ipython-input-40-f55ad971d8c6>\u001b[0m in \u001b[0;36mread_file_line_by_line\u001b[0;34m(file_path)\u001b[0m\n\u001b[1;32m      1\u001b[0m \u001b[0;31m#7 Implement a generator function that reads a file line by line and yields each line as a string\u001b[0m\u001b[0;34m\u001b[0m\u001b[0;34m\u001b[0m\u001b[0m\n\u001b[1;32m      2\u001b[0m \u001b[0;32mdef\u001b[0m \u001b[0mread_file_line_by_line\u001b[0m\u001b[0;34m(\u001b[0m\u001b[0mfile_path\u001b[0m\u001b[0;34m)\u001b[0m\u001b[0;34m:\u001b[0m\u001b[0;34m\u001b[0m\u001b[0;34m\u001b[0m\u001b[0m\n\u001b[0;32m----> 3\u001b[0;31m     \u001b[0;32mwith\u001b[0m \u001b[0mopen\u001b[0m\u001b[0;34m(\u001b[0m\u001b[0mfile_path\u001b[0m\u001b[0;34m,\u001b[0m \u001b[0;34m'r'\u001b[0m\u001b[0;34m)\u001b[0m \u001b[0;32mas\u001b[0m \u001b[0mfile\u001b[0m\u001b[0;34m:\u001b[0m\u001b[0;34m\u001b[0m\u001b[0;34m\u001b[0m\u001b[0m\n\u001b[0m\u001b[1;32m      4\u001b[0m         \u001b[0;32mfor\u001b[0m \u001b[0mline\u001b[0m \u001b[0;32min\u001b[0m \u001b[0mfile\u001b[0m\u001b[0;34m:\u001b[0m\u001b[0;34m\u001b[0m\u001b[0;34m\u001b[0m\u001b[0m\n\u001b[1;32m      5\u001b[0m             \u001b[0;32myield\u001b[0m \u001b[0mline\u001b[0m\u001b[0;34m\u001b[0m\u001b[0;34m\u001b[0m\u001b[0m\n",
            "\u001b[0;31mFileNotFoundError\u001b[0m: [Errno 2] No such file or directory: 'example.txt'"
          ]
        }
      ]
    },
    {
      "cell_type": "code",
      "source": [
        "#8 Use a lambda function in Python to sort a list of tuples based on the second element of each tuple.\n",
        "# List of tuples\n",
        "tuples = [(1, 3), (4, 1), (2, 5), (3, 2)]\n",
        "\n",
        "# Sort based on the second element of each tuple\n",
        "sorted_tuples = sorted(tuples, key=lambda x: x[1])\n",
        "\n",
        "# Print the sorted list\n",
        "print(sorted_tuples)\n"
      ],
      "metadata": {
        "colab": {
          "base_uri": "https://localhost:8080/"
        },
        "id": "nHG21IGRvU9C",
        "outputId": "46a78ea1-850e-400f-e116-dadd3cb726a4"
      },
      "execution_count": null,
      "outputs": [
        {
          "output_type": "stream",
          "name": "stdout",
          "text": [
            "[(4, 1), (3, 2), (1, 3), (2, 5)]\n"
          ]
        }
      ]
    },
    {
      "cell_type": "code",
      "source": [
        "#9 Write a Python program that uses map() to convert a list of temperatures from Celsius to Fahrenheit.\n",
        "# List of temperatures in Celsius\n",
        "celsius_temperatures = [0, 20, 37, 100]\n",
        "\n",
        "# Convert to Fahrenheit using map() and a lambda function\n",
        "fahrenheit_temperatures = list(map(lambda c: (c * 9/5) + 32, celsius_temperatures))\n",
        "\n",
        "# Print the converted temperatures\n",
        "print(fahrenheit_temperatures)\n"
      ],
      "metadata": {
        "colab": {
          "base_uri": "https://localhost:8080/"
        },
        "id": "9nlb0R7KvWCf",
        "outputId": "b49fd0eb-3fad-4fe2-f40d-7d4f9c025a71"
      },
      "execution_count": null,
      "outputs": [
        {
          "output_type": "stream",
          "name": "stdout",
          "text": [
            "[32.0, 68.0, 98.6, 212.0]\n"
          ]
        }
      ]
    },
    {
      "cell_type": "code",
      "source": [
        "#10 Create a Python program that uses filter() to remove all the vowels from a given string.\n",
        "# Function to check if a character is not a vowel\n",
        "def is_not_vowel(char):\n",
        "    vowels = 'aeiouAEIOU'\n",
        "    return char not in vowels\n",
        "\n",
        "# Input string\n",
        "input_string = \"Hello, World!\"\n",
        "\n",
        "# Remove vowels using filter()\n",
        "result = ''.join(filter(is_not_vowel, input_string))\n",
        "\n",
        "# Print the result\n",
        "print(result)\n"
      ],
      "metadata": {
        "colab": {
          "base_uri": "https://localhost:8080/"
        },
        "id": "JAeZQHO4vXNo",
        "outputId": "724e2567-36ce-4bde-d67c-b19ec0045001"
      },
      "execution_count": null,
      "outputs": [
        {
          "output_type": "stream",
          "name": "stdout",
          "text": [
            "Hll, Wrld!\n"
          ]
        }
      ]
    },
    {
      "cell_type": "code",
      "source": [],
      "metadata": {
        "id": "BWpAboVU46SU"
      },
      "execution_count": null,
      "outputs": []
    }
  ]
}